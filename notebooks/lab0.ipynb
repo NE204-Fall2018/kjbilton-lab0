{
 "cells": [
  {
   "cell_type": "markdown",
   "metadata": {},
   "source": [
    "# Lab 0\n",
    "## Overview\n",
    "1. Read in HPGe spectra from file\n",
    "1. Inspect spectra\n",
    "1. Perform energy calibration\n",
    "    - Identify prominent lines for each source type within spectra\n",
    "    - Find mean value of these lines using fitting techniques\n",
    "    - Create a linear relationship between channels and energies"
   ]
  },
  {
   "cell_type": "code",
   "execution_count": 1,
   "metadata": {},
   "outputs": [],
   "source": [
    "import numpy as np\n",
    "import pandas as pd\n",
    "import matplotlib.pyplot as plt\n",
    "plt.rcParams['figure.figsize'] = (9,6)"
   ]
  },
  {
   "cell_type": "markdown",
   "metadata": {},
   "source": [
    "## 1. Read in prepared data"
   ]
  },
  {
   "cell_type": "code",
   "execution_count": 2,
   "metadata": {},
   "outputs": [
    {
     "name": "stdout",
     "output_type": "stream",
     "text": [
      "lab0_spectral_data.md5  lab0_spectral_data.txt\r\n"
     ]
    }
   ],
   "source": [
    "ls ../data"
   ]
  },
  {
   "cell_type": "markdown",
   "metadata": {},
   "source": [
    "Read in the spectra to a `pandas DataFrame`"
   ]
  },
  {
   "cell_type": "code",
   "execution_count": 3,
   "metadata": {
    "scrolled": false
   },
   "outputs": [],
   "source": [
    "spectra = pd.read_table('../data/lab0_spectral_data.txt', header=0, delim_whitespace=True, escapechar='#')"
   ]
  },
  {
   "cell_type": "markdown",
   "metadata": {},
   "source": [
    "Take a look at the first few bins:"
   ]
  },
  {
   "cell_type": "code",
   "execution_count": 4,
   "metadata": {},
   "outputs": [
    {
     "data": {
      "text/html": [
       "<div>\n",
       "<style scoped>\n",
       "    .dataframe tbody tr th:only-of-type {\n",
       "        vertical-align: middle;\n",
       "    }\n",
       "\n",
       "    .dataframe tbody tr th {\n",
       "        vertical-align: top;\n",
       "    }\n",
       "\n",
       "    .dataframe thead th {\n",
       "        text-align: right;\n",
       "    }\n",
       "</style>\n",
       "<table border=\"1\" class=\"dataframe\">\n",
       "  <thead>\n",
       "    <tr style=\"text-align: right;\">\n",
       "      <th></th>\n",
       "      <th>Am-241</th>\n",
       "      <th>Ba-133</th>\n",
       "      <th>Cs-137</th>\n",
       "      <th>Co-60</th>\n",
       "      <th>Eu-152</th>\n",
       "    </tr>\n",
       "  </thead>\n",
       "  <tbody>\n",
       "    <tr>\n",
       "      <th>0</th>\n",
       "      <td>0</td>\n",
       "      <td>0</td>\n",
       "      <td>0</td>\n",
       "      <td>0</td>\n",
       "      <td>0</td>\n",
       "    </tr>\n",
       "    <tr>\n",
       "      <th>1</th>\n",
       "      <td>0</td>\n",
       "      <td>0</td>\n",
       "      <td>0</td>\n",
       "      <td>0</td>\n",
       "      <td>0</td>\n",
       "    </tr>\n",
       "    <tr>\n",
       "      <th>2</th>\n",
       "      <td>0</td>\n",
       "      <td>0</td>\n",
       "      <td>0</td>\n",
       "      <td>0</td>\n",
       "      <td>0</td>\n",
       "    </tr>\n",
       "    <tr>\n",
       "      <th>3</th>\n",
       "      <td>0</td>\n",
       "      <td>0</td>\n",
       "      <td>0</td>\n",
       "      <td>0</td>\n",
       "      <td>0</td>\n",
       "    </tr>\n",
       "    <tr>\n",
       "      <th>4</th>\n",
       "      <td>0</td>\n",
       "      <td>0</td>\n",
       "      <td>0</td>\n",
       "      <td>0</td>\n",
       "      <td>0</td>\n",
       "    </tr>\n",
       "    <tr>\n",
       "      <th>5</th>\n",
       "      <td>0</td>\n",
       "      <td>0</td>\n",
       "      <td>0</td>\n",
       "      <td>0</td>\n",
       "      <td>0</td>\n",
       "    </tr>\n",
       "    <tr>\n",
       "      <th>6</th>\n",
       "      <td>0</td>\n",
       "      <td>0</td>\n",
       "      <td>0</td>\n",
       "      <td>0</td>\n",
       "      <td>0</td>\n",
       "    </tr>\n",
       "    <tr>\n",
       "      <th>7</th>\n",
       "      <td>0</td>\n",
       "      <td>0</td>\n",
       "      <td>0</td>\n",
       "      <td>0</td>\n",
       "      <td>0</td>\n",
       "    </tr>\n",
       "    <tr>\n",
       "      <th>8</th>\n",
       "      <td>0</td>\n",
       "      <td>0</td>\n",
       "      <td>0</td>\n",
       "      <td>0</td>\n",
       "      <td>0</td>\n",
       "    </tr>\n",
       "    <tr>\n",
       "      <th>9</th>\n",
       "      <td>0</td>\n",
       "      <td>0</td>\n",
       "      <td>0</td>\n",
       "      <td>0</td>\n",
       "      <td>0</td>\n",
       "    </tr>\n",
       "    <tr>\n",
       "      <th>10</th>\n",
       "      <td>0</td>\n",
       "      <td>0</td>\n",
       "      <td>0</td>\n",
       "      <td>0</td>\n",
       "      <td>0</td>\n",
       "    </tr>\n",
       "    <tr>\n",
       "      <th>11</th>\n",
       "      <td>0</td>\n",
       "      <td>2</td>\n",
       "      <td>0</td>\n",
       "      <td>1</td>\n",
       "      <td>23</td>\n",
       "    </tr>\n",
       "    <tr>\n",
       "      <th>12</th>\n",
       "      <td>46</td>\n",
       "      <td>217</td>\n",
       "      <td>450</td>\n",
       "      <td>638</td>\n",
       "      <td>4066</td>\n",
       "    </tr>\n",
       "    <tr>\n",
       "      <th>13</th>\n",
       "      <td>3677</td>\n",
       "      <td>20458</td>\n",
       "      <td>6544</td>\n",
       "      <td>2757</td>\n",
       "      <td>47910</td>\n",
       "    </tr>\n",
       "    <tr>\n",
       "      <th>14</th>\n",
       "      <td>1408</td>\n",
       "      <td>9873</td>\n",
       "      <td>1760</td>\n",
       "      <td>740</td>\n",
       "      <td>16318</td>\n",
       "    </tr>\n",
       "    <tr>\n",
       "      <th>15</th>\n",
       "      <td>411</td>\n",
       "      <td>2554</td>\n",
       "      <td>736</td>\n",
       "      <td>331</td>\n",
       "      <td>5691</td>\n",
       "    </tr>\n",
       "    <tr>\n",
       "      <th>16</th>\n",
       "      <td>407</td>\n",
       "      <td>2507</td>\n",
       "      <td>736</td>\n",
       "      <td>396</td>\n",
       "      <td>5836</td>\n",
       "    </tr>\n",
       "    <tr>\n",
       "      <th>17</th>\n",
       "      <td>428</td>\n",
       "      <td>2783</td>\n",
       "      <td>789</td>\n",
       "      <td>421</td>\n",
       "      <td>6607</td>\n",
       "    </tr>\n",
       "    <tr>\n",
       "      <th>18</th>\n",
       "      <td>509</td>\n",
       "      <td>3171</td>\n",
       "      <td>944</td>\n",
       "      <td>441</td>\n",
       "      <td>7573</td>\n",
       "    </tr>\n",
       "    <tr>\n",
       "      <th>19</th>\n",
       "      <td>574</td>\n",
       "      <td>3462</td>\n",
       "      <td>1041</td>\n",
       "      <td>505</td>\n",
       "      <td>8335</td>\n",
       "    </tr>\n",
       "  </tbody>\n",
       "</table>\n",
       "</div>"
      ],
      "text/plain": [
       "     Am-241  Ba-133  Cs-137  Co-60  Eu-152\n",
       "0         0       0       0      0       0\n",
       "1         0       0       0      0       0\n",
       "2         0       0       0      0       0\n",
       "3         0       0       0      0       0\n",
       "4         0       0       0      0       0\n",
       "5         0       0       0      0       0\n",
       "6         0       0       0      0       0\n",
       "7         0       0       0      0       0\n",
       "8         0       0       0      0       0\n",
       "9         0       0       0      0       0\n",
       "10        0       0       0      0       0\n",
       "11        0       2       0      1      23\n",
       "12       46     217     450    638    4066\n",
       "13     3677   20458    6544   2757   47910\n",
       "14     1408    9873    1760    740   16318\n",
       "15      411    2554     736    331    5691\n",
       "16      407    2507     736    396    5836\n",
       "17      428    2783     789    421    6607\n",
       "18      509    3171     944    441    7573\n",
       "19      574    3462    1041    505    8335"
      ]
     },
     "execution_count": 4,
     "metadata": {},
     "output_type": "execute_result"
    }
   ],
   "source": [
    "spectra.head(20)"
   ]
  },
  {
   "cell_type": "code",
   "execution_count": 5,
   "metadata": {},
   "outputs": [
    {
     "data": {
      "text/plain": [
       "Index([' Am-241', 'Ba-133', 'Cs-137', 'Co-60', 'Eu-152'], dtype='object')"
      ]
     },
     "execution_count": 5,
     "metadata": {},
     "output_type": "execute_result"
    }
   ],
   "source": [
    "spectra.columns"
   ]
  },
  {
   "cell_type": "markdown",
   "metadata": {},
   "source": [
    "The first source name has an extra space in front of it... Let's remove it:"
   ]
  },
  {
   "cell_type": "code",
   "execution_count": 6,
   "metadata": {},
   "outputs": [],
   "source": [
    "spectra.rename(columns={' Am-241':'Am-241'}, inplace=True)"
   ]
  },
  {
   "cell_type": "markdown",
   "metadata": {},
   "source": [
    "## 2. Inspect spectra\n",
    "Let's take a look at all spectra on a single plot:"
   ]
  },
  {
   "cell_type": "code",
   "execution_count": 7,
   "metadata": {},
   "outputs": [
    {
     "data": {
      "image/png": "[encoded data removed]",
      "text/plain": [
       "<matplotlib.figure.Figure at 0x108827e48>"
      ]
     },
     "metadata": {},
     "output_type": "display_data"
    }
   ],
   "source": [
    "f, ax = plt.subplots()\n",
    "\n",
    "spectra.plot(ax=ax)\n",
    "ax.set_yscale('log')"
   ]
  },
  {
   "cell_type": "markdown",
   "metadata": {},
   "source": [
    "## 3. Identify peaks and find mean values of each\n",
    "Using data for the given sources, there are a number of prominent lines we should try to identify, shown in the table below.\n",
    "## Lines of Interest\n",
    "| Source        | Energy (kev)  |\n",
    "| ------------- |:-------------:|\n",
    "| $^{241}$Am    | 59.5          |\n",
    "| $^{133}$Ba    | 80.997        |\n",
    "|               | 356.017       |\n",
    "| $^{60}$Co     | 1173.2        |\n",
    "|               | 1332.5        |\n",
    "| $^{137}$Cs    | 661.6         |\n",
    "| $^{152}$Eu    | 121.8         |\n",
    "|               | 344.3         |\n",
    "|               | 1408.0        |"
   ]
  },
  {
   "cell_type": "markdown",
   "metadata": {},
   "source": [
    "For each source, we note one or more gamma-ray lines of interest and determine the associated MCA channel. Let's store all of these in a source DataFrame:"
   ]
  },
  {
   "cell_type": "code",
   "execution_count": 8,
   "metadata": {},
   "outputs": [],
   "source": [
    "lines = pd.DataFrame(columns=['src', 'energy', 'channel'])"
   ]
  },
  {
   "cell_type": "code",
   "execution_count": 9,
   "metadata": {},
   "outputs": [],
   "source": [
    "def append_row(df, src, energy, popt):\n",
    "    \"\"\"Add a line to a DataFrame\n",
    "    \"\"\"\n",
    "    data = df.copy()\n",
    "    data = data.append({'src' : src,\n",
    "                        'energy' : energy,\n",
    "                        'channel' : np.round(popt[1]).astype(int)},\n",
    "                        ignore_index=True)\n",
    "    # Below is due to the channel number being converted to an object for some reason...\n",
    "    data['channel'] = data['channel'].apply(pd.to_numeric)\n",
    "    \n",
    "    return data"
   ]
  },
  {
   "cell_type": "markdown",
   "metadata": {},
   "source": [
    "### $^{137}$Cs"
   ]
  },
  {
   "cell_type": "code",
   "execution_count": 10,
   "metadata": {},
   "outputs": [
    {
     "data": {
      "image/png": "[encoded data removed]",
      "text/plain": [
       "<matplotlib.figure.Figure at 0x10918a2b0>"
      ]
     },
     "metadata": {},
     "output_type": "display_data"
    }
   ],
   "source": [
    "f, ax = plt.subplots()\n",
    "spectra['Cs-137'].plot(ax=ax)\n",
    "ax.semilogy()\n",
    "ax.set_xlim(2330, 2375);"
   ]
  },
  {
   "cell_type": "markdown",
   "metadata": {},
   "source": [
    "We see a maximum at around 2360, so let's consider a window around this. In particular, let's fit a Gaussian over the window $[2340, 2365]$. The script `scripts/fitting.py` contains a routine for fitting a gaussian function over some window.\n",
    "\n",
    "To load these, we need to add our module directory to `PATH`:"
   ]
  },
  {
   "cell_type": "code",
   "execution_count": 11,
   "metadata": {},
   "outputs": [],
   "source": [
    "import os\n",
    "import sys\n",
    "module_path = os.path.abspath(os.path.join('../scripts/'))\n",
    "if module_path not in sys.path:\n",
    "    sys.path.append(module_path)"
   ]
  },
  {
   "cell_type": "code",
   "execution_count": 12,
   "metadata": {},
   "outputs": [],
   "source": [
    "from fitting import gaussian, fit_gaus_window"
   ]
  },
  {
   "cell_type": "markdown",
   "metadata": {},
   "source": [
    "Now let's fit this peak:"
   ]
  },
  {
   "cell_type": "code",
   "execution_count": 13,
   "metadata": {},
   "outputs": [],
   "source": [
    "cs137_662_popt, _ = fit_gaus_window(spectra['Cs-137'], 2340, 2365, p0=[4e+4, 2354, 5])"
   ]
  },
  {
   "cell_type": "markdown",
   "metadata": {},
   "source": [
    "We can then relate the 662 keV line of $^{137}$Cs to the channel below:"
   ]
  },
  {
   "cell_type": "code",
   "execution_count": 14,
   "metadata": {},
   "outputs": [],
   "source": [
    "lines = append_row(lines, 'Cs-137', 661.6, cs137_662_popt)"
   ]
  },
  {
   "cell_type": "markdown",
   "metadata": {},
   "source": [
    "### $^{241}$Am"
   ]
  },
  {
   "cell_type": "code",
   "execution_count": 15,
   "metadata": {
    "scrolled": false
   },
   "outputs": [
    {
     "data": {
      "image/png": "[encoded data removed]",
      "text/plain": [
       "<matplotlib.figure.Figure at 0x10944a828>"
      ]
     },
     "metadata": {},
     "output_type": "display_data"
    }
   ],
   "source": [
    "f, ax = plt.subplots()\n",
    "\n",
    "spectra['Am-241'].plot(ax=ax)\n",
    "ax.semilogy()\n",
    "ax.set_xlim(200, 220);"
   ]
  },
  {
   "cell_type": "code",
   "execution_count": 16,
   "metadata": {},
   "outputs": [],
   "source": [
    "am241_popt, _ = fit_gaus_window(spectra['Am-241'], 202, 212, p0=[3e+4, 205, 5])"
   ]
  },
  {
   "cell_type": "code",
   "execution_count": 17,
   "metadata": {},
   "outputs": [],
   "source": [
    "lines = append_row(lines, 'Am-241', 59.5, am241_popt)"
   ]
  },
  {
   "cell_type": "markdown",
   "metadata": {},
   "source": [
    "### $^{133}$Ba"
   ]
  },
  {
   "cell_type": "code",
   "execution_count": 18,
   "metadata": {
    "scrolled": false
   },
   "outputs": [
    {
     "data": {
      "text/plain": [
       "(1050, 1100)"
      ]
     },
     "execution_count": 18,
     "metadata": {},
     "output_type": "execute_result"
    },
    {
     "data": {
      "image/png": "[encoded data removed]",
      "text/plain": [
       "<matplotlib.figure.Figure at 0x1094f0588>"
      ]
     },
     "metadata": {},
     "output_type": "display_data"
    }
   ],
   "source": [
    "f, ax = plt.subplots()\n",
    "\n",
    "spectra['Ba-133'].plot(ax=ax)\n",
    "ax.semilogy()\n",
    "plt.xlim(1050, 1100)"
   ]
  },
  {
   "cell_type": "markdown",
   "metadata": {},
   "source": [
    "Fit the low-energy line of Ba:"
   ]
  },
  {
   "cell_type": "code",
   "execution_count": 19,
   "metadata": {},
   "outputs": [],
   "source": [
    "ba133_80_popt, _ = fit_gaus_window(spectra['Ba-133'], 280, 290, p0=[6e+4, 285, 2])"
   ]
  },
  {
   "cell_type": "code",
   "execution_count": 20,
   "metadata": {},
   "outputs": [],
   "source": [
    "lines = append_row(lines, 'Ba-133', 80.997, ba133_80_popt)"
   ]
  },
  {
   "cell_type": "markdown",
   "metadata": {},
   "source": [
    "Fit the higher energy line:"
   ]
  },
  {
   "cell_type": "code",
   "execution_count": 21,
   "metadata": {},
   "outputs": [],
   "source": [
    "ba133_356_popt, _ = fit_gaus_window(spectra['Ba-133'], 1070, 1080, p0=[1e+4, 1075, 2])"
   ]
  },
  {
   "cell_type": "code",
   "execution_count": 22,
   "metadata": {},
   "outputs": [],
   "source": [
    "lines = append_row(lines, 'Ba-133', 356.017, ba133_356_popt)"
   ]
  },
  {
   "cell_type": "markdown",
   "metadata": {},
   "source": [
    "### $^{60}$Co"
   ]
  },
  {
   "cell_type": "code",
   "execution_count": 23,
   "metadata": {
    "scrolled": false
   },
   "outputs": [
    {
     "data": {
      "text/plain": [
       "(4700, 4800)"
      ]
     },
     "execution_count": 23,
     "metadata": {},
     "output_type": "execute_result"
    },
    {
     "data": {
      "image/png": "[encoded data removed]",
      "text/plain": [
       "<matplotlib.figure.Figure at 0x1095457b8>"
      ]
     },
     "metadata": {},
     "output_type": "display_data"
    }
   ],
   "source": [
    "f, ax = plt.subplots()\n",
    "\n",
    "spectra['Co-60'].plot(ax=ax)\n",
    "ax.semilogy()\n",
    "plt.xlim(4700, 4800)"
   ]
  },
  {
   "cell_type": "markdown",
   "metadata": {},
   "source": [
    "Add the 1173 keV line:"
   ]
  },
  {
   "cell_type": "code",
   "execution_count": 24,
   "metadata": {},
   "outputs": [],
   "source": [
    "co60_1173_popt, _ = fit_gaus_window(spectra['Co-60'], 4170, 4190, p0=[1e+4, 4180, 20])"
   ]
  },
  {
   "cell_type": "code",
   "execution_count": 25,
   "metadata": {},
   "outputs": [],
   "source": [
    "lines = append_row(lines, 'Co-60', 1173.2, co60_1173_popt)"
   ]
  },
  {
   "cell_type": "markdown",
   "metadata": {},
   "source": [
    "Add the 1332 keV line:"
   ]
  },
  {
   "cell_type": "code",
   "execution_count": 26,
   "metadata": {},
   "outputs": [],
   "source": [
    "co60_1332_popt, _ = fit_gaus_window(spectra['Co-60'], 4720, 4760, p0=[1e+4, 4750, 20])"
   ]
  },
  {
   "cell_type": "code",
   "execution_count": 27,
   "metadata": {},
   "outputs": [],
   "source": [
    "lines = append_row(lines, 'Co-60', 1332.5, co60_1332_popt)"
   ]
  },
  {
   "cell_type": "markdown",
   "metadata": {},
   "source": [
    "### $^{152}$Eu"
   ]
  },
  {
   "cell_type": "code",
   "execution_count": 28,
   "metadata": {
    "scrolled": false
   },
   "outputs": [
    {
     "data": {
      "text/plain": [
       "(4900, 5100)"
      ]
     },
     "execution_count": 28,
     "metadata": {},
     "output_type": "execute_result"
    },
    {
     "data": {
      "image/png": "[encoded data removed]",
      "text/plain": [
       "<matplotlib.figure.Figure at 0x1094a5ba8>"
      ]
     },
     "metadata": {},
     "output_type": "display_data"
    }
   ],
   "source": [
    "f, ax = plt.subplots()\n",
    "\n",
    "spectra['Eu-152'].plot(ax=ax)\n",
    "ax.semilogy()\n",
    "plt.xlim(4900, 5100)"
   ]
  },
  {
   "cell_type": "markdown",
   "metadata": {},
   "source": [
    "Add the 122 keV line:"
   ]
  },
  {
   "cell_type": "code",
   "execution_count": 29,
   "metadata": {},
   "outputs": [],
   "source": [
    "eu152_122_popt, _ = fit_gaus_window(spectra['Eu-152'], 420, 440, p0=[1e+5, 425, 5])"
   ]
  },
  {
   "cell_type": "code",
   "execution_count": 30,
   "metadata": {},
   "outputs": [],
   "source": [
    "lines = append_row(lines, 'Eu-152', 121.8, eu152_122_popt)"
   ]
  },
  {
   "cell_type": "markdown",
   "metadata": {},
   "source": [
    "Add the 344 keV line:"
   ]
  },
  {
   "cell_type": "code",
   "execution_count": 31,
   "metadata": {},
   "outputs": [],
   "source": [
    "eu152_1408_popt, _ = fit_gaus_window(spectra['Eu-152'], 5000, 5025, p0=[1e+4, 5010, 15])"
   ]
  },
  {
   "cell_type": "code",
   "execution_count": 32,
   "metadata": {},
   "outputs": [],
   "source": [
    "lines = append_row(lines, 'Eu-152', 1408.0, eu152_1408_popt)"
   ]
  },
  {
   "cell_type": "code",
   "execution_count": 33,
   "metadata": {},
   "outputs": [
    {
     "data": {
      "text/html": [
       "<div>\n",
       "<style scoped>\n",
       "    .dataframe tbody tr th:only-of-type {\n",
       "        vertical-align: middle;\n",
       "    }\n",
       "\n",
       "    .dataframe tbody tr th {\n",
       "        vertical-align: top;\n",
       "    }\n",
       "\n",
       "    .dataframe thead th {\n",
       "        text-align: right;\n",
       "    }\n",
       "</style>\n",
       "<table border=\"1\" class=\"dataframe\">\n",
       "  <thead>\n",
       "    <tr style=\"text-align: right;\">\n",
       "      <th></th>\n",
       "      <th>src</th>\n",
       "      <th>energy</th>\n",
       "      <th>channel</th>\n",
       "    </tr>\n",
       "  </thead>\n",
       "  <tbody>\n",
       "    <tr>\n",
       "      <th>0</th>\n",
       "      <td>Cs-137</td>\n",
       "      <td>661.600</td>\n",
       "      <td>2354</td>\n",
       "    </tr>\n",
       "    <tr>\n",
       "      <th>1</th>\n",
       "      <td>Am-241</td>\n",
       "      <td>59.500</td>\n",
       "      <td>208</td>\n",
       "    </tr>\n",
       "    <tr>\n",
       "      <th>2</th>\n",
       "      <td>Ba-133</td>\n",
       "      <td>80.997</td>\n",
       "      <td>284</td>\n",
       "    </tr>\n",
       "    <tr>\n",
       "      <th>3</th>\n",
       "      <td>Ba-133</td>\n",
       "      <td>356.017</td>\n",
       "      <td>1075</td>\n",
       "    </tr>\n",
       "    <tr>\n",
       "      <th>4</th>\n",
       "      <td>Co-60</td>\n",
       "      <td>1173.200</td>\n",
       "      <td>4178</td>\n",
       "    </tr>\n",
       "    <tr>\n",
       "      <th>5</th>\n",
       "      <td>Co-60</td>\n",
       "      <td>1332.500</td>\n",
       "      <td>4746</td>\n",
       "    </tr>\n",
       "    <tr>\n",
       "      <th>6</th>\n",
       "      <td>Eu-152</td>\n",
       "      <td>121.800</td>\n",
       "      <td>430</td>\n",
       "    </tr>\n",
       "    <tr>\n",
       "      <th>7</th>\n",
       "      <td>Eu-152</td>\n",
       "      <td>1408.000</td>\n",
       "      <td>5015</td>\n",
       "    </tr>\n",
       "  </tbody>\n",
       "</table>\n",
       "</div>"
      ],
      "text/plain": [
       "      src    energy  channel\n",
       "0  Cs-137   661.600     2354\n",
       "1  Am-241    59.500      208\n",
       "2  Ba-133    80.997      284\n",
       "3  Ba-133   356.017     1075\n",
       "4   Co-60  1173.200     4178\n",
       "5   Co-60  1332.500     4746\n",
       "6  Eu-152   121.800      430\n",
       "7  Eu-152  1408.000     5015"
      ]
     },
     "execution_count": 33,
     "metadata": {},
     "output_type": "execute_result"
    }
   ],
   "source": [
    "lines"
   ]
  },
  {
   "cell_type": "markdown",
   "metadata": {},
   "source": [
    "## 4. Perform calibrations\n",
    "We will account for nonlinearities by considering a polynomial function to fit our data. In particular, we will consider fits in the form\n",
    "\n",
    "$$E_i = \\sum_{j=0}^{N} a_j C_i^j$$\n",
    "\n",
    "Where $E_i$ is the energy associated with the line with peak ADC value $C_i$. By creating a fit based on gamma-ray lines from a number of sources and then evaluating the fit on a separate set of gamma-ray lines, we can determine an appropriate value for our hyperparameter $N$."
   ]
  },
  {
   "cell_type": "markdown",
   "metadata": {},
   "source": [
    "First, let's take a look at the relationship between channel number and energy:"
   ]
  },
  {
   "cell_type": "code",
   "execution_count": 34,
   "metadata": {},
   "outputs": [],
   "source": [
    "lines.sort_values('channel', inplace=True)"
   ]
  },
  {
   "cell_type": "code",
   "execution_count": 35,
   "metadata": {},
   "outputs": [
    {
     "data": {
      "text/plain": [
       "Text(0,0.5,'Energy (keV)')"
      ]
     },
     "execution_count": 35,
     "metadata": {},
     "output_type": "execute_result"
    },
    {
     "data": {
      "image/png": "[encoded data removed]",
      "text/plain": [
       "<matplotlib.figure.Figure at 0x10947cf28>"
      ]
     },
     "metadata": {},
     "output_type": "display_data"
    }
   ],
   "source": [
    "f, ax = plt.subplots()\n",
    "lines.plot(x='channel', y='energy', kind='scatter', ax=ax)\n",
    "ax.set_xlabel('Channel Number')\n",
    "ax.set_ylabel('Energy (keV)')"
   ]
  },
  {
   "cell_type": "markdown",
   "metadata": {},
   "source": [
    "That looks pretty linear, but let's go ahead and fits out for a number of different model orders."
   ]
  },
  {
   "cell_type": "code",
   "execution_count": 36,
   "metadata": {},
   "outputs": [],
   "source": [
    "from fitting import generate_X, lstsq, lstsq_err"
   ]
  },
  {
   "cell_type": "code",
   "execution_count": 37,
   "metadata": {},
   "outputs": [],
   "source": [
    "# Choose a maximum model order\n",
    "n = 6\n",
    "\n",
    "# Define a vector to hold the error\n",
    "err_train = np.zeros(n-1)\n",
    "\n",
    "for idx in range(1, n):\n",
    "    X = generate_X(lines['channel'].values, idx)\n",
    "    w = lstsq(X, lines['energy'].values)\n",
    "    err_train[idx-1] = lstsq_err(X, lines['energy'].values, w)"
   ]
  },
  {
   "cell_type": "markdown",
   "metadata": {},
   "source": [
    "Let's visualize how our error decreases as we increase the model order:"
   ]
  },
  {
   "cell_type": "code",
   "execution_count": 38,
   "metadata": {},
   "outputs": [
    {
     "data": {
      "image/png": "[encoded data removed]",
      "text/plain": [
       "<matplotlib.figure.Figure at 0x109aa7390>"
      ]
     },
     "metadata": {},
     "output_type": "display_data"
    }
   ],
   "source": [
    "f, ax = plt.subplots()\n",
    "\n",
    "ax.plot(np.arange(1, n), err_train)\n",
    "ax.set_xlabel('Model order $D$')\n",
    "ax.set_xlim(1, n-1)\n",
    "ax.set_xticks(np.arange(1, n, 1))\n",
    "ax.set_ylabel('Mean squared error');"
   ]
  },
  {
   "cell_type": "markdown",
   "metadata": {},
   "source": [
    "As expected, we will decrease our model order as we make it more complicated, but what are the order of our weights?"
   ]
  },
  {
   "cell_type": "code",
   "execution_count": 39,
   "metadata": {},
   "outputs": [
    {
     "data": {
      "text/plain": [
       "array([ -2.31878276e+01,   3.62255764e-01,   2.80099813e-05,\n",
       "        -5.78649217e-08,   1.80576410e-11,  -1.64502823e-15])"
      ]
     },
     "execution_count": 39,
     "metadata": {},
     "output_type": "execute_result"
    }
   ],
   "source": [
    "w"
   ]
  },
  {
   "cell_type": "markdown",
   "metadata": {},
   "source": [
    "We see that the model coefficients get very small for high order models. With more lines, we could choose a model order based on a model that best describes lines that were not used in fitting, but that's probably overkill here. Instead, we can arbitrarily choose a third order model. Since the weights are on the order of $10^{-8}$, this would result in a correction of about $10^{-5}$ at around 1 MeV."
   ]
  },
  {
   "cell_type": "code",
   "execution_count": 40,
   "metadata": {},
   "outputs": [],
   "source": [
    "X = generate_X(lines['channel'].values, 3)\n",
    "w = lstsq(X, lines['energy'].values)"
   ]
  },
  {
   "cell_type": "markdown",
   "metadata": {},
   "source": [
    "Let's plot this fit over our original data points:"
   ]
  },
  {
   "cell_type": "code",
   "execution_count": 41,
   "metadata": {},
   "outputs": [
    {
     "data": {
      "image/png": "[encoded data removed]",
      "text/plain": [
       "<matplotlib.figure.Figure at 0x10999f0f0>"
      ]
     },
     "metadata": {},
     "output_type": "display_data"
    }
   ],
   "source": [
    "f, ax = plt.subplots()\n",
    "lines.plot(x='channel', y='energy', kind='scatter', ax=ax)\n",
    "ax.set_xlabel('Channel Number')\n",
    "ax.set_ylabel('Energy (keV)')\n",
    "ax.plot((lines['channel']), X @ w, c='r');"
   ]
  }
 ],
 "metadata": {
  "kernelspec": {
   "display_name": "Python [default]",
   "language": "python",
   "name": "python3"
  },
  "language_info": {
   "codemirror_mode": {
    "name": "ipython",
    "version": 3
   },
   "file_extension": ".py",
   "mimetype": "text/x-python",
   "name": "python",
   "nbconvert_exporter": "python",
   "pygments_lexer": "ipython3",
   "version": "3.6.4"
  }
 },
 "nbformat": 4,
 "nbformat_minor": 2
}
